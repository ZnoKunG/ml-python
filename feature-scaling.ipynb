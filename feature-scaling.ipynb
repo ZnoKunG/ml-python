{
 "cells": [
  {
   "cell_type": "code",
   "execution_count": 1,
   "metadata": {},
   "outputs": [],
   "source": [
    "import numpy as np\n",
    "import matplotlib.pyplot as plt\n",
    "import requests"
   ]
  },
  {
   "cell_type": "code",
   "execution_count": 2,
   "metadata": {},
   "outputs": [],
   "source": [
    "base_url = \"https://api.github.com\"\n",
    "\n",
    "def get_user_repos(username):\n",
    "    url = f\"{base_url}/users/{username}/repos\"\n",
    "    resp = requests.get(url)\n",
    "\n",
    "    if resp.status_code == 200:\n",
    "        repos = resp.json()\n",
    "        return repos\n",
    "    \n",
    "    return None"
   ]
  },
  {
   "cell_type": "code",
   "execution_count": 3,
   "metadata": {},
   "outputs": [
    {
     "name": "stdout",
     "output_type": "stream",
     "text": [
      "List repos of user ZnoKunG\n",
      "10-Days-Project-Papika\n",
      "10daysproject-api\n",
      "2D-shooting\n",
      "Chessed\n",
      "FPS_Demo\n",
      "FPS_Server\n",
      "fsweeper-api\n",
      "fsweeper-unity\n",
      "gamedev-portfolio\n",
      "ksy-api\n",
      "ksy-dashboard\n",
      "MarchingCubes\n",
      "ml-python\n",
      "Overtrashed-2.0\n",
      "Portfolio\n",
      "sfml-collision\n",
      "sfml-geometrybattles\n",
      "Shoowt\n",
      "topdownshooter-unity\n",
      "Trash-seperation-Game\n",
      "Valorant-Randomizer-Website\n",
      "Valorant-Website-Angular\n",
      "znokung-portfolio\n",
      "znokung.github.io\n"
     ]
    }
   ],
   "source": [
    "username = \"ZnoKunG\"\n",
    "\n",
    "repos = get_user_repos(username)\n",
    "\n",
    "if repos:\n",
    "    print(f\"List repos of user {username}\")\n",
    "    for repo in repos:\n",
    "        print(repo[\"name\"])\n",
    "else:\n",
    "    print(f\"Failed to query {username} repos\")"
   ]
  },
  {
   "cell_type": "code",
   "execution_count": 10,
   "metadata": {},
   "outputs": [],
   "source": [
    "page = 1\n",
    "per_page = 100\n",
    "\n",
    "import os\n",
    "github_token = os.getenv('GITHUB_ACCESS_TOKEN')\n",
    "\n",
    "def search_projects_with_code(code):\n",
    "    url = f\"{base_url}/search/code?q={code}&per_page={per_page}&page={page} +in:file\"\n",
    "\n",
    "    headers = {\n",
    "        'Authorization': f'Token {github_token}'\n",
    "    }\n",
    "\n",
    "    resp = requests.get(url, headers=headers)\n",
    "    \n",
    "    if resp.status_code == 200:\n",
    "        repos = resp.json()\n",
    "        return repos\n",
    "    \n",
    "    print(f\"Error code: {resp.status_code}\")\n",
    "    return None"
   ]
  },
  {
   "cell_type": "code",
   "execution_count": 11,
   "metadata": {},
   "outputs": [
    {
     "name": "stdout",
     "output_type": "stream",
     "text": [
      "Error code: 401\n",
      "Failed to query repos with code import qiskit\n"
     ]
    }
   ],
   "source": [
    "code = \"import qiskit\"\n",
    "\n",
    "data = search_projects_with_code(code)\n",
    "\n",
    "if data:\n",
    "    print(f\"List repos with code {code} - Total count : {data[\"total_count\"]}\")\n",
    "    print(f\"{len(data[\"items\"])}\")\n",
    "    # for repo in data[\"items\"]:\n",
    "    #     print(repo['repository'])\n",
    "else:\n",
    "    print(f\"Failed to query repos with code {code}\")"
   ]
  },
  {
   "cell_type": "code",
   "execution_count": 12,
   "metadata": {},
   "outputs": [],
   "source": [
    "import time"
   ]
  },
  {
   "cell_type": "code",
   "execution_count": 13,
   "metadata": {},
   "outputs": [],
   "source": [
    "def search_projects_with_codeList(codes):\n",
    "    repos = []\n",
    "    total_count = 0\n",
    "    for code in codes:\n",
    "        print(f\"Searching with code {code}\")\n",
    "        data = search_projects_with_code(code)\n",
    "\n",
    "        if data:\n",
    "            for d in data[\"items\"]:\n",
    "                repos.append(d[\"repository\"])\n",
    "\n",
    "            total_count += data['total_count']   \n",
    "            print(f\"Found repos with code {code}: {data[\"total_count\"]}\")\n",
    "            print(f\"Waiting for delay ...\")\n",
    "            time.sleep(1)\n",
    "\n",
    "    return repos, total_count"
   ]
  },
  {
   "cell_type": "code",
   "execution_count": 14,
   "metadata": {},
   "outputs": [
    {
     "name": "stdout",
     "output_type": "stream",
     "text": [
      "Searching with code import qiskit\n",
      "Error code: 401\n",
      "Searching with code import cirq\n",
      "Error code: 401\n",
      "Searching with code from cirq import\n",
      "Error code: 401\n",
      "Searching with code from qiskit import\n",
      "Error code: 401\n",
      "Searching with code import tensorflow_quantum\n",
      "Error code: 401\n",
      "Searching with code from tensorflow_quantum import\n",
      "Error code: 401\n",
      "Searching with code from braket.circuits import\n",
      "Error code: 401\n",
      "Searching with code import braket.circuits\n",
      "Error code: 401\n",
      "First batch: []\n",
      "Second batch : []\n",
      "Total repos related to Quantum Projects: 0\n"
     ]
    }
   ],
   "source": [
    "codes = ['import qiskit', 'import cirq', 'from cirq import', 'from qiskit import', 'import tensorflow_quantum', 'from tensorflow_quantum import', 'from braket.circuits import', 'import braket.circuits']\n",
    "\n",
    "repos, total_count = search_projects_with_codeList(codes)\n",
    "\n",
    "print(f\"First batch: {repos[:80]}\")\n",
    "print(f\"Second batch : {repos[80:160]}\")\n",
    "print(f\"Total repos related to Quantum Projects: {total_count}\")\n"
   ]
  },
  {
   "cell_type": "code",
   "execution_count": null,
   "metadata": {},
   "outputs": [],
   "source": []
  }
 ],
 "metadata": {
  "kernelspec": {
   "display_name": "venv",
   "language": "python",
   "name": "python3"
  },
  "language_info": {
   "codemirror_mode": {
    "name": "ipython",
    "version": 3
   },
   "file_extension": ".py",
   "mimetype": "text/x-python",
   "name": "python",
   "nbconvert_exporter": "python",
   "pygments_lexer": "ipython3",
   "version": "3.12.4"
  }
 },
 "nbformat": 4,
 "nbformat_minor": 2
}
